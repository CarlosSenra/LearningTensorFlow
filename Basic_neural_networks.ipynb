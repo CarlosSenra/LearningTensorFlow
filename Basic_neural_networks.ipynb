{
 "cells": [
  {
   "cell_type": "markdown",
   "metadata": {},
   "source": [
    "# Creating a basic Neural Networks\n",
    "In this notebook I using tensorflow, to create a DNN with subclassing API.\n",
    "\n",
    "The data is sintetic, only to understand how the library works..."
   ]
  },
  {
   "cell_type": "code",
   "execution_count": 1,
   "metadata": {},
   "outputs": [],
   "source": [
    "import tensorflow as tf"
   ]
  },
  {
   "cell_type": "code",
   "execution_count": 2,
   "metadata": {},
   "outputs": [],
   "source": [
    "def sintetic_data(shape:tuple):\n",
    "    X = tf.random.uniform(shape=shape)\n",
    "    y= tf.random.normal(shape=shape)\n",
    "    return X,y \n",
    "\n",
    "X_train,y_train = sintetic_data(shape = (100,1))\n",
    "X_val,y_val = sintetic_data(shape = (20,1))\n",
    "X_test,y_test = sintetic_data(shape = (10,1))"
   ]
  },
  {
   "cell_type": "code",
   "execution_count": 3,
   "metadata": {},
   "outputs": [
    {
     "name": "stderr",
     "output_type": "stream",
     "text": [
      "c:\\Users\\rafin\\AppData\\Local\\Programs\\Python\\Python310\\lib\\site-packages\\keras\\src\\layers\\core\\dense.py:87: UserWarning: Do not pass an `input_shape`/`input_dim` argument to a layer. When using Sequential models, prefer using an `Input(shape)` object as the first layer in the model instead.\n",
      "  super().__init__(activity_regularizer=activity_regularizer, **kwargs)\n"
     ]
    },
    {
     "data": {
      "text/plain": [
       "<keras.src.callbacks.history.History at 0x19e50039bd0>"
      ]
     },
     "execution_count": 3,
     "metadata": {},
     "output_type": "execute_result"
    }
   ],
   "source": [
    "\n",
    "class BasicModel(tf.keras.Model):\n",
    "    def __init__(self,units, activation,num_hidden_states,**kwargs):\n",
    "        super().__init__(**kwargs)\n",
    "        self.num_hidden_states=num_hidden_states\n",
    "        self.input_layer = tf.keras.Input(shape=(1,))\n",
    "        self.dense1 = tf.keras.layers.Dense(units, activation=activation,input_shape = [1])\n",
    "        self.dense2 = tf.keras.layers.Dense(units, activation=activation)\n",
    "        self.main_output = tf.keras.layers.Dense(1)\n",
    "    \n",
    "    def call(self, inputs):\n",
    "        dense1 = self.dense1(inputs)\n",
    "        dense2 = self.dense2(dense1)\n",
    "        for i in range(self.num_hidden_states - 1):\n",
    "            dense2 = self.dense2(dense2)\n",
    "        output = self.main_output(dense2)\n",
    "        return output\n",
    "    \n",
    "model = BasicModel(units=100, activation=\"relu\",num_hidden_states=2)\n",
    "\n",
    "loss_fn = tf.keras.losses.MeanSquaredError()\n",
    "optimizer = tf.keras.optimizers.Adam(learning_rate=0.01)\n",
    "\n",
    "model.compile(loss=loss_fn,\n",
    "              optimizer=optimizer,\n",
    "              metrics=[\"mae\"])\n",
    "model.fit(X_train,y_train,validation_data=(X_val,y_val),epochs=100,verbose=False)"
   ]
  },
  {
   "cell_type": "code",
   "execution_count": 4,
   "metadata": {},
   "outputs": [
    {
     "name": "stdout",
     "output_type": "stream",
     "text": [
      "\u001b[1m1/1\u001b[0m \u001b[32m━━━━━━━━━━━━━━━━━━━━\u001b[0m\u001b[37m\u001b[0m \u001b[1m0s\u001b[0m 19ms/step - loss: 1.3556 - mae: 0.8486\n"
     ]
    },
    {
     "data": {
      "text/plain": [
       "[1.3556076288223267, 0.8486039042472839]"
      ]
     },
     "execution_count": 4,
     "metadata": {},
     "output_type": "execute_result"
    }
   ],
   "source": [
    "model.evaluate(X_test,y_test)"
   ]
  },
  {
   "cell_type": "code",
   "execution_count": 5,
   "metadata": {},
   "outputs": [
    {
     "name": "stdout",
     "output_type": "stream",
     "text": [
      "\u001b[1m1/1\u001b[0m \u001b[32m━━━━━━━━━━━━━━━━━━━━\u001b[0m\u001b[37m\u001b[0m \u001b[1m0s\u001b[0m 35ms/step\n"
     ]
    },
    {
     "data": {
      "text/plain": [
       "array([[ 0.0651329 ],\n",
       "       [-0.04995131],\n",
       "       [ 0.20862377],\n",
       "       [ 0.10885155],\n",
       "       [ 0.24045259],\n",
       "       [ 0.22787458],\n",
       "       [ 0.13503286],\n",
       "       [ 0.21613047],\n",
       "       [ 0.11613606],\n",
       "       [ 0.05841366]], dtype=float32)"
      ]
     },
     "execution_count": 5,
     "metadata": {},
     "output_type": "execute_result"
    }
   ],
   "source": [
    "model.predict(tf.random.uniform(shape=(10,1)))"
   ]
  },
  {
   "cell_type": "code",
   "execution_count": 6,
   "metadata": {},
   "outputs": [
    {
     "data": {
      "text/plain": [
       "<tf.Tensor: shape=(10, 1), dtype=float32, numpy=\n",
       "array([[ 0.97152734],\n",
       "       [ 0.96739554],\n",
       "       [ 0.8071222 ],\n",
       "       [ 0.24184835],\n",
       "       [-2.534822  ],\n",
       "       [-0.6249649 ],\n",
       "       [ 1.8374463 ],\n",
       "       [ 0.3095532 ],\n",
       "       [ 0.5578998 ],\n",
       "       [-0.06731419]], dtype=float32)>"
      ]
     },
     "execution_count": 6,
     "metadata": {},
     "output_type": "execute_result"
    }
   ],
   "source": [
    "y_test"
   ]
  },
  {
   "cell_type": "code",
   "execution_count": null,
   "metadata": {},
   "outputs": [],
   "source": []
  }
 ],
 "metadata": {
  "kernelspec": {
   "display_name": "Python 3",
   "language": "python",
   "name": "python3"
  },
  "language_info": {
   "codemirror_mode": {
    "name": "ipython",
    "version": 3
   },
   "file_extension": ".py",
   "mimetype": "text/x-python",
   "name": "python",
   "nbconvert_exporter": "python",
   "pygments_lexer": "ipython3",
   "version": "3.10.0rc2"
  }
 },
 "nbformat": 4,
 "nbformat_minor": 2
}
