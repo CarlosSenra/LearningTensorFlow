{
 "cells": [
  {
   "cell_type": "code",
   "execution_count": 2,
   "metadata": {},
   "outputs": [],
   "source": [
    "import tensorflow as tf"
   ]
  },
  {
   "cell_type": "code",
   "execution_count": 10,
   "metadata": {},
   "outputs": [],
   "source": [
    "def sintetic_data(shape:tuple):\n",
    "    X = tf.random.uniform(shape=shape)\n",
    "    y= tf.random.normal(shape=shape)\n",
    "    return X,y \n",
    "\n",
    "X,y = sintetic_data(shape = (100,1))"
   ]
  },
  {
   "cell_type": "code",
   "execution_count": 11,
   "metadata": {},
   "outputs": [
    {
     "data": {
      "text/plain": [
       "TensorShape([100, 1])"
      ]
     },
     "execution_count": 11,
     "metadata": {},
     "output_type": "execute_result"
    }
   ],
   "source": [
    "X.shape"
   ]
  },
  {
   "cell_type": "code",
   "execution_count": 58,
   "metadata": {},
   "outputs": [
    {
     "data": {
      "text/plain": [
       "<keras.src.callbacks.history.History at 0x25431e65450>"
      ]
     },
     "execution_count": 58,
     "metadata": {},
     "output_type": "execute_result"
    }
   ],
   "source": [
    "def sintetic_data(shape:tuple):\n",
    "    X = tf.random.uniform(shape=shape)\n",
    "    y= tf.random.normal(shape=shape)\n",
    "    return X,y \n",
    "\n",
    "X,y = sintetic_data(shape = (100,1))\n",
    "\n",
    "\n",
    "class BasicModel(tf.keras.Model):\n",
    "    def __init__(self,units, activation,**kwargs):\n",
    "        super().__init__(**kwargs)\n",
    "        self.dense1 = tf.keras.layers.Dense(units, activation=activation)\n",
    "        self.dense2 = tf.keras.layers.Dense(units, activation=activation)\n",
    "        self.main_output = tf.keras.layers.Dense(1)\n",
    "    \n",
    "    def call(self, inputs):\n",
    "        dense1 = self.dense1(inputs)\n",
    "        dense2 = self.dense2(dense1)\n",
    "        output = self.main_output(dense2)\n",
    "        return output\n",
    "    \n",
    "model = BasicModel(units=100, activation=\"relu\")\n",
    "\n",
    "loss_fn = tf.keras.losses.MeanSquaredError()\n",
    "optimizer = tf.keras.optimizers.Adam(learning_rate=0.01)\n",
    "\n",
    "model.compile(loss=loss_fn,\n",
    "              optimizer=optimizer,\n",
    "              metrics=[\"mae\"])\n",
    "model.fit(X,y,epochs=100,verbose=False)"
   ]
  },
  {
   "cell_type": "code",
   "execution_count": 59,
   "metadata": {},
   "outputs": [
    {
     "name": "stdout",
     "output_type": "stream",
     "text": [
      "\u001b[1m1/1\u001b[0m \u001b[32m━━━━━━━━━━━━━━━━━━━━\u001b[0m\u001b[37m\u001b[0m \u001b[1m0s\u001b[0m 28ms/step\n"
     ]
    },
    {
     "data": {
      "text/plain": [
       "array([[-0.10029611],\n",
       "       [-0.09941407],\n",
       "       [-0.10132101],\n",
       "       [-0.08575436],\n",
       "       [-0.04143055],\n",
       "       [-0.09729639],\n",
       "       [-0.1000727 ],\n",
       "       [-0.10325599],\n",
       "       [-0.0984257 ],\n",
       "       [-0.10186151]], dtype=float32)"
      ]
     },
     "execution_count": 59,
     "metadata": {},
     "output_type": "execute_result"
    }
   ],
   "source": [
    "model.predict(tf.random.uniform(shape=(10,1)))"
   ]
  },
  {
   "cell_type": "code",
   "execution_count": null,
   "metadata": {},
   "outputs": [],
   "source": []
  }
 ],
 "metadata": {
  "kernelspec": {
   "display_name": "Python 3",
   "language": "python",
   "name": "python3"
  },
  "language_info": {
   "codemirror_mode": {
    "name": "ipython",
    "version": 3
   },
   "file_extension": ".py",
   "mimetype": "text/x-python",
   "name": "python",
   "nbconvert_exporter": "python",
   "pygments_lexer": "ipython3",
   "version": "3.10.0rc2"
  }
 },
 "nbformat": 4,
 "nbformat_minor": 2
}
