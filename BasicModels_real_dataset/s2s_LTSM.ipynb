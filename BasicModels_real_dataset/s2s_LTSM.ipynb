{
 "cells": [
  {
   "cell_type": "markdown",
   "metadata": {},
   "source": [
    "### starting a basic sequence to sequence LSTM model "
   ]
  },
  {
   "cell_type": "code",
   "execution_count": 1,
   "metadata": {},
   "outputs": [
    {
     "name": "stderr",
     "output_type": "stream",
     "text": [
      "2024-05-31 11:07:37.238644: I tensorflow/core/util/port.cc:113] oneDNN custom operations are on. You may see slightly different numerical results due to floating-point round-off errors from different computation orders. To turn them off, set the environment variable `TF_ENABLE_ONEDNN_OPTS=0`.\n",
      "2024-05-31 11:07:37.267068: I tensorflow/core/platform/cpu_feature_guard.cc:210] This TensorFlow binary is optimized to use available CPU instructions in performance-critical operations.\n",
      "To enable the following instructions: AVX2 AVX_VNNI FMA, in other operations, rebuild TensorFlow with the appropriate compiler flags.\n",
      "2024-05-31 11:07:37.680417: W tensorflow/compiler/tf2tensorrt/utils/py_utils.cc:38] TF-TRT Warning: Could not find TensorRT\n"
     ]
    }
   ],
   "source": [
    "import tensorflow as tf\n",
    "import numpy as np\n",
    "import pandas as pd\n",
    "from datetime import datetime, timedelta\n",
    "import warnings\n",
    "\n",
    "warnings.filterwarnings('ignore')\n"
   ]
  },
  {
   "cell_type": "markdown",
   "metadata": {},
   "source": [
    "# creating a sintetic dataframe"
   ]
  },
  {
   "cell_type": "code",
   "execution_count": 2,
   "metadata": {},
   "outputs": [
    {
     "data": {
      "text/html": [
       "<div>\n",
       "<style scoped>\n",
       "    .dataframe tbody tr th:only-of-type {\n",
       "        vertical-align: middle;\n",
       "    }\n",
       "\n",
       "    .dataframe tbody tr th {\n",
       "        vertical-align: top;\n",
       "    }\n",
       "\n",
       "    .dataframe thead th {\n",
       "        text-align: right;\n",
       "    }\n",
       "</style>\n",
       "<table border=\"1\" class=\"dataframe\">\n",
       "  <thead>\n",
       "    <tr style=\"text-align: right;\">\n",
       "      <th></th>\n",
       "      <th>time_idx</th>\n",
       "      <th>vendas</th>\n",
       "      <th>valor</th>\n",
       "    </tr>\n",
       "  </thead>\n",
       "  <tbody>\n",
       "    <tr>\n",
       "      <th>0</th>\n",
       "      <td>0</td>\n",
       "      <td>38</td>\n",
       "      <td>38</td>\n",
       "    </tr>\n",
       "    <tr>\n",
       "      <th>1</th>\n",
       "      <td>1</td>\n",
       "      <td>59</td>\n",
       "      <td>59</td>\n",
       "    </tr>\n",
       "    <tr>\n",
       "      <th>2</th>\n",
       "      <td>2</td>\n",
       "      <td>68</td>\n",
       "      <td>68</td>\n",
       "    </tr>\n",
       "    <tr>\n",
       "      <th>3</th>\n",
       "      <td>3</td>\n",
       "      <td>90</td>\n",
       "      <td>90</td>\n",
       "    </tr>\n",
       "    <tr>\n",
       "      <th>4</th>\n",
       "      <td>4</td>\n",
       "      <td>81</td>\n",
       "      <td>81</td>\n",
       "    </tr>\n",
       "  </tbody>\n",
       "</table>\n",
       "</div>"
      ],
      "text/plain": [
       "   time_idx  vendas  valor\n",
       "0         0      38     38\n",
       "1         1      59     59\n",
       "2         2      68     68\n",
       "3         3      90     90\n",
       "4         4      81     81"
      ]
     },
     "execution_count": 2,
     "metadata": {},
     "output_type": "execute_result"
    }
   ],
   "source": [
    "num_days = 365\n",
    "\n",
    "\n",
    "start_date = datetime(2023, 1, 1)\n",
    "\n",
    "\n",
    "dates = [start_date + timedelta(days=i) for i in range(num_days)]\n",
    "\n",
    "\n",
    "sales = np.random.randint(10, 100, size=num_days)\n",
    "sales1 = np.random.randint(9, 20, size=num_days)\n",
    "\n",
    "df = pd.DataFrame({'data': dates, 'vendas': sales,'valor': sales})\n",
    "\n",
    "df = df.reset_index().rename(columns={\"index\":\"time_idx\"})\n",
    "\n",
    "df = df[['time_idx','vendas','valor']]\n",
    "df.head()"
   ]
  },
  {
   "cell_type": "code",
   "execution_count": 3,
   "metadata": {},
   "outputs": [],
   "source": [
    "for col in df.select_dtypes(include=['int']):\n",
    "    df[col] = df[col].astype(float)"
   ]
  },
  {
   "cell_type": "code",
   "execution_count": 4,
   "metadata": {},
   "outputs": [],
   "source": [
    "datas = df.time_idx\n",
    "X = df.iloc[:,1:]"
   ]
  },
  {
   "cell_type": "code",
   "execution_count": 5,
   "metadata": {},
   "outputs": [
    {
     "data": {
      "text/html": [
       "<div>\n",
       "<style scoped>\n",
       "    .dataframe tbody tr th:only-of-type {\n",
       "        vertical-align: middle;\n",
       "    }\n",
       "\n",
       "    .dataframe tbody tr th {\n",
       "        vertical-align: top;\n",
       "    }\n",
       "\n",
       "    .dataframe thead th {\n",
       "        text-align: right;\n",
       "    }\n",
       "</style>\n",
       "<table border=\"1\" class=\"dataframe\">\n",
       "  <thead>\n",
       "    <tr style=\"text-align: right;\">\n",
       "      <th></th>\n",
       "      <th>vendas</th>\n",
       "      <th>valor</th>\n",
       "    </tr>\n",
       "  </thead>\n",
       "  <tbody>\n",
       "    <tr>\n",
       "      <th>0</th>\n",
       "      <td>38.0</td>\n",
       "      <td>38.0</td>\n",
       "    </tr>\n",
       "    <tr>\n",
       "      <th>1</th>\n",
       "      <td>59.0</td>\n",
       "      <td>59.0</td>\n",
       "    </tr>\n",
       "    <tr>\n",
       "      <th>2</th>\n",
       "      <td>68.0</td>\n",
       "      <td>68.0</td>\n",
       "    </tr>\n",
       "    <tr>\n",
       "      <th>3</th>\n",
       "      <td>90.0</td>\n",
       "      <td>90.0</td>\n",
       "    </tr>\n",
       "    <tr>\n",
       "      <th>4</th>\n",
       "      <td>81.0</td>\n",
       "      <td>81.0</td>\n",
       "    </tr>\n",
       "    <tr>\n",
       "      <th>...</th>\n",
       "      <td>...</td>\n",
       "      <td>...</td>\n",
       "    </tr>\n",
       "    <tr>\n",
       "      <th>360</th>\n",
       "      <td>52.0</td>\n",
       "      <td>52.0</td>\n",
       "    </tr>\n",
       "    <tr>\n",
       "      <th>361</th>\n",
       "      <td>38.0</td>\n",
       "      <td>38.0</td>\n",
       "    </tr>\n",
       "    <tr>\n",
       "      <th>362</th>\n",
       "      <td>32.0</td>\n",
       "      <td>32.0</td>\n",
       "    </tr>\n",
       "    <tr>\n",
       "      <th>363</th>\n",
       "      <td>92.0</td>\n",
       "      <td>92.0</td>\n",
       "    </tr>\n",
       "    <tr>\n",
       "      <th>364</th>\n",
       "      <td>46.0</td>\n",
       "      <td>46.0</td>\n",
       "    </tr>\n",
       "  </tbody>\n",
       "</table>\n",
       "<p>365 rows × 2 columns</p>\n",
       "</div>"
      ],
      "text/plain": [
       "     vendas  valor\n",
       "0      38.0   38.0\n",
       "1      59.0   59.0\n",
       "2      68.0   68.0\n",
       "3      90.0   90.0\n",
       "4      81.0   81.0\n",
       "..      ...    ...\n",
       "360    52.0   52.0\n",
       "361    38.0   38.0\n",
       "362    32.0   32.0\n",
       "363    92.0   92.0\n",
       "364    46.0   46.0\n",
       "\n",
       "[365 rows x 2 columns]"
      ]
     },
     "execution_count": 5,
     "metadata": {},
     "output_type": "execute_result"
    }
   ],
   "source": [
    "X"
   ]
  },
  {
   "cell_type": "code",
   "execution_count": 6,
   "metadata": {},
   "outputs": [
    {
     "data": {
      "text/plain": [
       "(365, 2)"
      ]
     },
     "execution_count": 6,
     "metadata": {},
     "output_type": "execute_result"
    }
   ],
   "source": [
    "X.shape"
   ]
  },
  {
   "cell_type": "code",
   "execution_count": 7,
   "metadata": {},
   "outputs": [
    {
     "data": {
      "text/plain": [
       "(1, 365, 1)"
      ]
     },
     "execution_count": 7,
     "metadata": {},
     "output_type": "execute_result"
    }
   ],
   "source": [
    "datas = np.expand_dims(datas, axis=0)\n",
    "datas = np.expand_dims(datas, axis=-1)\n",
    "datas.shape"
   ]
  },
  {
   "cell_type": "code",
   "execution_count": 8,
   "metadata": {},
   "outputs": [
    {
     "data": {
      "text/plain": [
       "(1, 365, 2)"
      ]
     },
     "execution_count": 8,
     "metadata": {},
     "output_type": "execute_result"
    }
   ],
   "source": [
    "X = np.expand_dims(X, axis=0)\n",
    "X.shape"
   ]
  },
  {
   "cell_type": "code",
   "execution_count": 9,
   "metadata": {},
   "outputs": [
    {
     "name": "stderr",
     "output_type": "stream",
     "text": [
      "2024-05-31 11:07:48.202800: E external/local_xla/xla/stream_executor/cuda/cuda_driver.cc:282] failed call to cuInit: CUDA_ERROR_UNKNOWN: unknown error\n",
      "2024-05-31 11:07:48.202821: I external/local_xla/xla/stream_executor/cuda/cuda_diagnostics.cc:134] retrieving CUDA diagnostic information for host: Hogwarts\n",
      "2024-05-31 11:07:48.202824: I external/local_xla/xla/stream_executor/cuda/cuda_diagnostics.cc:141] hostname: Hogwarts\n",
      "2024-05-31 11:07:48.202964: I external/local_xla/xla/stream_executor/cuda/cuda_diagnostics.cc:165] libcuda reported version is: 555.42.2\n",
      "2024-05-31 11:07:48.202976: I external/local_xla/xla/stream_executor/cuda/cuda_diagnostics.cc:169] kernel reported version is: 555.42.2\n",
      "2024-05-31 11:07:48.202978: I external/local_xla/xla/stream_executor/cuda/cuda_diagnostics.cc:248] kernel version seems to match DSO: 555.42.2\n"
     ]
    }
   ],
   "source": [
    "lstm_encoder = tf.keras.layers.LSTM(units=64,\n",
    "                            return_state = True,\n",
    "                            name = 'LSTM_encoder')\n",
    "\n",
    "lstm_decoder = tf.keras.layers.LSTM(units=64,\n",
    "                             return_sequences=True, \n",
    "                             return_state=True,\n",
    "                             name = 'LSTM_decoder')"
   ]
  },
  {
   "cell_type": "code",
   "execution_count": 10,
   "metadata": {},
   "outputs": [],
   "source": [
    "a,b,c = lstm_encoder(datas)\n",
    "\n",
    "x,_,_ = lstm_decoder(X,initial_state=[b,c])"
   ]
  },
  {
   "cell_type": "code",
   "execution_count": 17,
   "metadata": {},
   "outputs": [],
   "source": [
    "class Encoder_layer(tf.keras.layers.Layer):\n",
    "    def __init__(self, num_untis:int):\n",
    "        super(Encoder_layer,self).__init__()\n",
    "\n",
    "\n",
    "        self.LSTM_encoder = tf.keras.layers.LSTM(units=num_untis,\n",
    "                                                 return_state = True,\n",
    "                                                 name = 'LSTM_encoder')\n",
    "        \n",
    "    def call(self,inputs):\n",
    "        \n",
    "        output_encoder, state_h, state_c = self.LSTM_encoder(inputs)\n",
    "\n",
    "        return output_encoder, state_h, state_c\n",
    "    \n",
    "teste = Encoder_layer(64)\n",
    "\n",
    "x,a,b = teste(datas)"
   ]
  },
  {
   "cell_type": "code",
   "execution_count": 26,
   "metadata": {},
   "outputs": [],
   "source": [
    "class Decoder_layer(tf.keras.layers.Layer):\n",
    "    def __init__(self, num_untis:int):\n",
    "        super(Decoder_layer, self).__init__()\n",
    "\n",
    "        self.LSTM_decoder = tf.keras.layers.LSTM(units=num_untis,\n",
    "                                                 return_sequences=True,\n",
    "                                                 return_state = True,\n",
    "                                                 name = 'LSTM_decoder')\n",
    "\n",
    "        self.Dense_output = tf.keras.layers.Dense(2)\n",
    "    def call(self,inputs,encoder_states):\n",
    "\n",
    "\n",
    "        output_decoder, state_h, state_c = self.LSTM_decoder(inputs,initial_state=encoder_states)\n",
    "        output = self.Dense_output(output_decoder)\n",
    "\n",
    "        return output"
   ]
  },
  {
   "cell_type": "code",
   "execution_count": 27,
   "metadata": {},
   "outputs": [],
   "source": [
    "teste1 = Decoder_layer(64)\n",
    "\n",
    "x = teste1(X, encoder_states =[a,b])"
   ]
  },
  {
   "cell_type": "code",
   "execution_count": 28,
   "metadata": {},
   "outputs": [],
   "source": [
    "class Seq_to_Seq_LSTM(tf.keras.Model):\n",
    "    def __init__(self, num_units:int):\n",
    "\n",
    "        super().__init__()\n",
    "        self.num_units = num_units\n",
    "\n",
    "\n",
    "        self.encoder_layer = Encoder_layer(self.num_units)\n",
    "        self.decoder_layer = Decoder_layer(self.num_units)\n",
    "\n",
    "\n",
    "    def call(self,inputs):\n",
    "\n",
    "        enc,dec= inputs\n",
    "       \n",
    "        _, state_h, state_c = self.encoder_layer(enc)\n",
    "\n",
    "        output_decoder = self.decoder_layer(dec, encoder_states = [state_h, state_c])\n",
    "\n",
    "        return output_decoder\n",
    "    \n",
    "\n",
    "\n"
   ]
  },
  {
   "cell_type": "code",
   "execution_count": 29,
   "metadata": {},
   "outputs": [
    {
     "data": {
      "text/plain": [
       "<keras.src.callbacks.history.History at 0x7f1220675a50>"
      ]
     },
     "execution_count": 29,
     "metadata": {},
     "output_type": "execute_result"
    }
   ],
   "source": [
    "\n",
    "model = Seq_to_Seq_LSTM(num_units=64)\n",
    "\n",
    "model.compile(optimizer='rmsprop', loss='mae')\n",
    "\n",
    "\n",
    "model.fit([datas,X],\n",
    "          X,epochs=100,verbose=False)"
   ]
  }
 ],
 "metadata": {
  "kernelspec": {
   "display_name": "tensorflow-park",
   "language": "python",
   "name": "python3"
  },
  "language_info": {
   "codemirror_mode": {
    "name": "ipython",
    "version": 3
   },
   "file_extension": ".py",
   "mimetype": "text/x-python",
   "name": "python",
   "nbconvert_exporter": "python",
   "pygments_lexer": "ipython3",
   "version": "3.10.14"
  }
 },
 "nbformat": 4,
 "nbformat_minor": 2
}
